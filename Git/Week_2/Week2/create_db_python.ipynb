{
 "cells": [
  {
   "cell_type": "code",
   "execution_count": 7,
   "metadata": {},
   "outputs": [],
   "source": [
    "import mysql.connector\n",
    "\n",
    "mydb = mysql.connector.connect(\n",
    "  host=\"localhost\",\n",
    "  user=\"root\",\n",
    "  passwd=\"Easy2020!\",\n",
    "  database=\"mydatabase\" \n",
    ")\n",
    "\n",
    "mycursor = mydb.cursor()\n",
    "#mycursor.execute(\"Create table employee(name varchar(200), sal int(20))\")\n",
    "sqlform = \"Insert into employee(name, sal) values(%s,%s)\"\n",
    "employees = [(\"Itumeleng\", 24000), (\"Katlego\", 14000), (\"Pheladi\", 12000), ]\n",
    "mycursor.executemany(sqlform,employees)\n",
    "mydb.commit()"
   ]
  },
  {
   "cell_type": "code",
   "execution_count": null,
   "metadata": {},
   "outputs": [],
   "source": []
  }
 ],
 "metadata": {
  "kernelspec": {
   "display_name": "Python 3",
   "language": "python",
   "name": "python3"
  },
  "language_info": {
   "codemirror_mode": {
    "name": "ipython",
    "version": 3
   },
   "file_extension": ".py",
   "mimetype": "text/x-python",
   "name": "python",
   "nbconvert_exporter": "python",
   "pygments_lexer": "ipython3",
   "version": "3.7.4"
  }
 },
 "nbformat": 4,
 "nbformat_minor": 2
}
