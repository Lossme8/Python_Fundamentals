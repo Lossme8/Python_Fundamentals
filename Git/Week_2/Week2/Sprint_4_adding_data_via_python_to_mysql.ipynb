{
 "cells": [
  {
   "cell_type": "code",
   "execution_count": 1,
   "metadata": {},
   "outputs": [
    {
     "name": "stdout",
     "output_type": "stream",
     "text": [
      "----------Welcome to Data Vault----------\n",
      "\n",
      "This is the original data\n"
     ]
    },
    {
     "data": {
      "text/html": [
       "<div>\n",
       "<style scoped>\n",
       "    .dataframe tbody tr th:only-of-type {\n",
       "        vertical-align: middle;\n",
       "    }\n",
       "\n",
       "    .dataframe tbody tr th {\n",
       "        vertical-align: top;\n",
       "    }\n",
       "\n",
       "    .dataframe thead th {\n",
       "        text-align: right;\n",
       "    }\n",
       "</style>\n",
       "<table border=\"1\" class=\"dataframe\">\n",
       "  <thead>\n",
       "    <tr style=\"text-align: right;\">\n",
       "      <th></th>\n",
       "      <th>products</th>\n",
       "      <th>type</th>\n",
       "      <th>price</th>\n",
       "      <th>quantity</th>\n",
       "    </tr>\n",
       "  </thead>\n",
       "  <tbody>\n",
       "    <tr>\n",
       "      <td>0</td>\n",
       "      <td>Chips</td>\n",
       "      <td>Lays</td>\n",
       "      <td>10.5</td>\n",
       "      <td>15</td>\n",
       "    </tr>\n",
       "    <tr>\n",
       "      <td>1</td>\n",
       "      <td>Chips</td>\n",
       "      <td>Doritos</td>\n",
       "      <td>11.5</td>\n",
       "      <td>15</td>\n",
       "    </tr>\n",
       "    <tr>\n",
       "      <td>2</td>\n",
       "      <td>Chips</td>\n",
       "      <td>Nik Naks</td>\n",
       "      <td>9.5</td>\n",
       "      <td>20</td>\n",
       "    </tr>\n",
       "    <tr>\n",
       "      <td>3</td>\n",
       "      <td>Coldrinks</td>\n",
       "      <td>Coke</td>\n",
       "      <td>13.5</td>\n",
       "      <td>60</td>\n",
       "    </tr>\n",
       "    <tr>\n",
       "      <td>4</td>\n",
       "      <td>Coldrinks</td>\n",
       "      <td>Sprite</td>\n",
       "      <td>13.5</td>\n",
       "      <td>60</td>\n",
       "    </tr>\n",
       "    <tr>\n",
       "      <td>5</td>\n",
       "      <td>Coldrinks</td>\n",
       "      <td>Stoney</td>\n",
       "      <td>13.5</td>\n",
       "      <td>60</td>\n",
       "    </tr>\n",
       "    <tr>\n",
       "      <td>6</td>\n",
       "      <td>pie</td>\n",
       "      <td>Steak &amp; pepper</td>\n",
       "      <td>18.5</td>\n",
       "      <td>20</td>\n",
       "    </tr>\n",
       "    <tr>\n",
       "      <td>7</td>\n",
       "      <td>pie</td>\n",
       "      <td>Chicken mayo</td>\n",
       "      <td>20.0</td>\n",
       "      <td>20</td>\n",
       "    </tr>\n",
       "    <tr>\n",
       "      <td>8</td>\n",
       "      <td>pie</td>\n",
       "      <td>spinach&amp; feta</td>\n",
       "      <td>22.0</td>\n",
       "      <td>20</td>\n",
       "    </tr>\n",
       "    <tr>\n",
       "      <td>9</td>\n",
       "      <td>fruits</td>\n",
       "      <td>banana</td>\n",
       "      <td>15.0</td>\n",
       "      <td>25</td>\n",
       "    </tr>\n",
       "    <tr>\n",
       "      <td>10</td>\n",
       "      <td>fruits</td>\n",
       "      <td>apples</td>\n",
       "      <td>16.5</td>\n",
       "      <td>35</td>\n",
       "    </tr>\n",
       "    <tr>\n",
       "      <td>11</td>\n",
       "      <td>fruits</td>\n",
       "      <td>pears</td>\n",
       "      <td>16.0</td>\n",
       "      <td>30</td>\n",
       "    </tr>\n",
       "    <tr>\n",
       "      <td>12</td>\n",
       "      <td>veggies</td>\n",
       "      <td>spinach</td>\n",
       "      <td>10.0</td>\n",
       "      <td>15</td>\n",
       "    </tr>\n",
       "    <tr>\n",
       "      <td>13</td>\n",
       "      <td>veggies</td>\n",
       "      <td>beetrot</td>\n",
       "      <td>12.0</td>\n",
       "      <td>15</td>\n",
       "    </tr>\n",
       "    <tr>\n",
       "      <td>14</td>\n",
       "      <td>veggies</td>\n",
       "      <td>cabbage</td>\n",
       "      <td>8.0</td>\n",
       "      <td>15</td>\n",
       "    </tr>\n",
       "  </tbody>\n",
       "</table>\n",
       "</div>"
      ],
      "text/plain": [
       "     products            type  price  quantity\n",
       "0       Chips            Lays   10.5        15\n",
       "1       Chips         Doritos   11.5        15\n",
       "2       Chips        Nik Naks    9.5        20\n",
       "3   Coldrinks            Coke   13.5        60\n",
       "4   Coldrinks          Sprite   13.5        60\n",
       "5   Coldrinks          Stoney   13.5        60\n",
       "6         pie  Steak & pepper   18.5        20\n",
       "7         pie    Chicken mayo   20.0        20\n",
       "8         pie   spinach& feta   22.0        20\n",
       "9      fruits          banana   15.0        25\n",
       "10     fruits          apples   16.5        35\n",
       "11     fruits           pears   16.0        30\n",
       "12    veggies         spinach   10.0        15\n",
       "13    veggies         beetrot   12.0        15\n",
       "14    veggies         cabbage    8.0        15"
      ]
     },
     "execution_count": 1,
     "metadata": {},
     "output_type": "execute_result"
    }
   ],
   "source": [
    "import pandas as pd\n",
    "import matplotlib.pyplot as plt\n",
    "print('-'*10 + \"Welcome to Data Vault\" + '-'*10)\n",
    "print(\"\\nThis is the original data\")\n",
    "df=pd.read_csv(\"Data_Vault_Final1.csv\")\n",
    "df"
   ]
  },
  {
   "cell_type": "code",
   "execution_count": 17,
   "metadata": {},
   "outputs": [
    {
     "name": "stdout",
     "output_type": "stream",
     "text": [
      "1 Record Inserted\n"
     ]
    }
   ],
   "source": [
    " import mysql.connector\n",
    "db_connection = mysql.connector.connect(\n",
    "  host=\"localhost\",\n",
    "  user=\"root\",\n",
    "  passwd=\"Easy2020!\",\n",
    "  database=\"mydatabase\"\n",
    "  )\n",
    "db_cursor = db_connection.cursor()\n",
    "#products_sql_query = \"INSERT INTO data_vault_final1(products,type,price,quantity)VALUES('Bakery', 'bread', 15, 40)\"\n",
    "#employee_sql_query = \" INSERT INTO employee (id, name, salary) VALUES (01, 'John', 10000)\"\n",
    "#Execute cursor and pass query \n",
    "db_cursor.execute(\"INSERT INTO data_vault_final1(products,type,price,quantity)VALUES('Bakery', 'bread', 15, 40)\")\n",
    "#Execute cursor and pass query of employee and data of employee\n",
    "#db_cursor.execute(employee_sql_query)\n",
    "db_connection.commit()\n",
    "print(db_cursor.rowcount, \"Record Inserted\")"
   ]
  },
  {
   "cell_type": "code",
   "execution_count": 28,
   "metadata": {},
   "outputs": [],
   "source": [
    "import pymysql\n",
    "pymysql.install_as_MySQLdb()\n",
    "import MySQLdb\n",
    "import mysql.connector\n",
    "db_connection = mysql.connector.connect(\n",
    "  host=\"localhost\",\n",
    "  user=\"root\",\n",
    "  passwd=\"Easy2020!\",\n",
    "  database=\"mydatabase\"\n",
    "  )\n",
    "mycursor = mydb.cursor()\n",
    "mycursor.execute(\"ALTER TABLE data_vault_final1 ADD barcode VARCHAR(50) NOT NULL AFTER quantity;\")\n",
    "\n",
    "#mycursor.execute(\"CREATE TABLE customers (name VARCHAR(255), address VARCHAR(255))\")"
   ]
  },
  {
   "cell_type": "code",
   "execution_count": 29,
   "metadata": {},
   "outputs": [],
   "source": [
    "import pymysql\n",
    "pymysql.install_as_MySQLdb()\n",
    "import MySQLdb\n",
    "import mysql.connector\n",
    "db_connection = mysql.connector.connect(\n",
    "  host=\"localhost\",\n",
    "  user=\"root\",\n",
    "  passwd=\"Easy2020!\",\n",
    "  database=\"mydatabase\"\n",
    "  )\n",
    "mycursor = mydb.cursor()\n",
    "# This script adds another column in the table\n",
    "mycursor.execute(\"ALTER TABLE data_vault_final1 ADD expiry_date VARCHAR(50) NOT NULL AFTER barcode;\")"
   ]
  },
  {
   "cell_type": "code",
   "execution_count": null,
   "metadata": {},
   "outputs": [],
   "source": [
    "import pymysql\n",
    "pymysql.install_as_MySQLdb()\n",
    "import MySQLdb\n",
    "import mysql.connector\n",
    "db_connection = mysql.connector.connect(\n",
    "  host=\"localhost\",\n",
    "  user=\"root\",\n",
    "  passwd=\"Easy2020!\",\n",
    "  database=\"mydatabase\"\n",
    "  )\n",
    "mycursor = mydb.cursor()\n",
    "# This script adds another column in the table\n",
    "mycursor.execute(\"ALTER TABLE data_vault_final1 ADD expiry_date VARCHAR(50) NOT NULL AFTER barcode;\")"
   ]
  },
  {
   "cell_type": "code",
   "execution_count": 30,
   "metadata": {},
   "outputs": [],
   "source": [
    "import pymysql\n",
    "pymysql.install_as_MySQLdb()\n",
    "import MySQLdb\n",
    "import mysql.connector\n",
    "db_connection = mysql.connector.connect(\n",
    "  host=\"localhost\",\n",
    "  user=\"root\",\n",
    "  passwd=\"Easy2020!\",\n",
    "  database=\"mydatabase\"\n",
    "  )\n",
    "mycursor = mydb.cursor()\n",
    "# This script adds another column in the table\n",
    "mycursor.execute(\"ALTER TABLE data_vault_final1 ADD purchased VARCHAR(50) NOT NULL AFTER barcode;\")"
   ]
  },
  {
   "cell_type": "code",
   "execution_count": null,
   "metadata": {},
   "outputs": [],
   "source": [
    " import mysql.connector\n",
    "db_connection = mysql.connector.connect(\n",
    "  host=\"localhost\",\n",
    "  user=\"root\",\n",
    "  passwd=\"Easy2020!\",\n",
    "  database=\"mydatabase\"\n",
    "  )\n",
    "db_cursor = db_connection.cursor()\n",
    "db_cursor.execute(\"INSERT INTO data_vault_final1(products,barcode)VALUES('Bakery', 'bread', 15, 40)\")\n",
    "db_connection.commit()\n",
    "print(db_cursor.rowcount, \"Record Inserted\")"
   ]
  },
  {
   "cell_type": "code",
   "execution_count": 2,
   "metadata": {},
   "outputs": [
    {
     "name": "stdout",
     "output_type": "stream",
     "text": [
      "1 record(s) affected\n"
     ]
    }
   ],
   "source": [
    "import mysql.connector\n",
    "import MySQLdb as sql\n",
    "\n",
    "mydb = mysql.connector.connect(\n",
    "  host=\"localhost\",\n",
    "  user=\"root\",\n",
    "  passwd=\"Easy2020!\",\n",
    "  database=\"mydatabase\"\n",
    ")\n",
    "\n",
    "#mycursor = mydb.cursor()\n",
    "mycursor = mydb.cursor()\n",
    "sql = \"UPDATE data_vault_final1 SET barcode = '10002020' WHERE type = 'Lays'\" # this script updates the barcode in the database\n",
    "mycursor.execute(sql)\n",
    "print(mycursor.rowcount, \"record(s) affected\")"
   ]
  },
  {
   "cell_type": "code",
   "execution_count": 3,
   "metadata": {},
   "outputs": [],
   "source": [
    "mydb.commit()"
   ]
  },
  {
   "cell_type": "code",
   "execution_count": 4,
   "metadata": {},
   "outputs": [
    {
     "name": "stdout",
     "output_type": "stream",
     "text": [
      "1 record(s) affected\n"
     ]
    }
   ],
   "source": [
    "import mysql.connector\n",
    "import MySQLdb as sql\n",
    "\n",
    "mydb = mysql.connector.connect(\n",
    "  host=\"localhost\",\n",
    "  user=\"root\",\n",
    "  passwd=\"Easy2020!\",\n",
    "  database=\"mydatabase\"\n",
    ")\n",
    "\n",
    "#mycursor = mydb.cursor()\n",
    "mycursor = mydb.cursor()\n",
    "sql = \"UPDATE data_vault_final1 SET purchased = '2', expiry_date='18/02/2022' WHERE type = 'Lays'\" # this script updates the barcode in the database\n",
    "mycursor.execute(sql)\n",
    "print(mycursor.rowcount, \"record(s) affected\")"
   ]
  },
  {
   "cell_type": "code",
   "execution_count": 5,
   "metadata": {},
   "outputs": [],
   "source": [
    "mydb.commit()"
   ]
  },
  {
   "cell_type": "code",
   "execution_count": 6,
   "metadata": {},
   "outputs": [
    {
     "name": "stdout",
     "output_type": "stream",
     "text": [
      "1 record(s) affected\n"
     ]
    }
   ],
   "source": [
    "import mysql.connector\n",
    "import MySQLdb as sql\n",
    "\n",
    "mydb = mysql.connector.connect(\n",
    "  host=\"localhost\",\n",
    "  user=\"root\",\n",
    "  passwd=\"Easy2020!\",\n",
    "  database=\"mydatabase\"\n",
    ")\n",
    "\n",
    "#mycursor = mydb.cursor()\n",
    "mycursor = mydb.cursor()\n",
    "sql = \"UPDATE data_vault_final1 SET barcode='100023352', purchased = '5', expiry_date='18/02/2022' WHERE type = 'Doritos'\" # this script updates the barcode in the database\n",
    "mycursor.execute(sql)\n",
    "print(mycursor.rowcount, \"record(s) affected\")"
   ]
  },
  {
   "cell_type": "code",
   "execution_count": 7,
   "metadata": {},
   "outputs": [],
   "source": [
    "mydb.commit()"
   ]
  },
  {
   "cell_type": "code",
   "execution_count": 8,
   "metadata": {},
   "outputs": [
    {
     "name": "stdout",
     "output_type": "stream",
     "text": [
      "1 record(s) affected\n"
     ]
    }
   ],
   "source": [
    "import mysql.connector\n",
    "import MySQLdb as sql\n",
    "\n",
    "mydb = mysql.connector.connect(\n",
    "  host=\"localhost\",\n",
    "  user=\"root\",\n",
    "  passwd=\"Easy2020!\",\n",
    "  database=\"mydatabase\"\n",
    ")\n",
    "\n",
    "#mycursor = mydb.cursor()\n",
    "mycursor = mydb.cursor()\n",
    "sql = \"UPDATE data_vault_final1 SET barcode='10002335', purchased = '6', expiry_date='18/02/2023' WHERE type = 'Nik naks'\" # this script updates the database\n",
    "mycursor.execute(sql)\n",
    "print(mycursor.rowcount, \"record(s) affected\")"
   ]
  },
  {
   "cell_type": "code",
   "execution_count": 9,
   "metadata": {},
   "outputs": [],
   "source": [
    "mydb.commit()"
   ]
  },
  {
   "cell_type": "code",
   "execution_count": 10,
   "metadata": {},
   "outputs": [
    {
     "name": "stdout",
     "output_type": "stream",
     "text": [
      "1 record(s) affected\n"
     ]
    }
   ],
   "source": [
    "import mysql.connector\n",
    "import MySQLdb as sql\n",
    "\n",
    "mydb = mysql.connector.connect(\n",
    "  host=\"localhost\",\n",
    "  user=\"root\",\n",
    "  passwd=\"Easy2020!\",\n",
    "  database=\"mydatabase\"\n",
    ")\n",
    "\n",
    "#mycursor = mydb.cursor()\n",
    "mycursor = mydb.cursor()\n",
    "sql = \"UPDATE data_vault_final1 SET barcode='20002335', purchased = '20', expiry_date='18/02/2021' WHERE type = 'coke'\" # this script updates the database\n",
    "mycursor.execute(sql)\n",
    "print(mycursor.rowcount, \"record(s) affected\")"
   ]
  },
  {
   "cell_type": "code",
   "execution_count": 11,
   "metadata": {},
   "outputs": [],
   "source": [
    "mydb.commit()"
   ]
  },
  {
   "cell_type": "code",
   "execution_count": 12,
   "metadata": {},
   "outputs": [
    {
     "name": "stdout",
     "output_type": "stream",
     "text": [
      "1 record(s) affected\n"
     ]
    }
   ],
   "source": [
    "import mysql.connector\n",
    "import MySQLdb as sql\n",
    "\n",
    "mydb = mysql.connector.connect(\n",
    "  host=\"localhost\",\n",
    "  user=\"root\",\n",
    "  passwd=\"Easy2020!\",\n",
    "  database=\"mydatabase\"\n",
    ")\n",
    "\n",
    "#mycursor = mydb.cursor()\n",
    "mycursor = mydb.cursor()\n",
    "sql = \"UPDATE data_vault_final1 SET barcode='20002336', purchased = '21', expiry_date='18/03/2021' WHERE type = 'sprite'\" # this script updates the database\n",
    "mycursor.execute(sql)\n",
    "print(mycursor.rowcount, \"record(s) affected\")"
   ]
  },
  {
   "cell_type": "code",
   "execution_count": 13,
   "metadata": {},
   "outputs": [],
   "source": [
    "mydb.commit()"
   ]
  },
  {
   "cell_type": "code",
   "execution_count": 14,
   "metadata": {},
   "outputs": [
    {
     "name": "stdout",
     "output_type": "stream",
     "text": [
      "1 record(s) affected\n"
     ]
    }
   ],
   "source": [
    "import mysql.connector\n",
    "import MySQLdb as sql\n",
    "\n",
    "mydb = mysql.connector.connect(\n",
    "  host=\"localhost\",\n",
    "  user=\"root\",\n",
    "  passwd=\"Easy2020!\",\n",
    "  database=\"mydatabase\"\n",
    ")\n",
    "\n",
    "#mycursor = mydb.cursor()\n",
    "mycursor = mydb.cursor()\n",
    "sql = \"UPDATE data_vault_final1 SET barcode='20002337', purchased = '18', expiry_date='19/03/2021' WHERE type = 'stoney'\" # this script updates the database\n",
    "mycursor.execute(sql)\n",
    "print(mycursor.rowcount, \"record(s) affected\")"
   ]
  },
  {
   "cell_type": "code",
   "execution_count": 15,
   "metadata": {},
   "outputs": [],
   "source": [
    "mydb.commit()"
   ]
  },
  {
   "cell_type": "code",
   "execution_count": 16,
   "metadata": {},
   "outputs": [
    {
     "name": "stdout",
     "output_type": "stream",
     "text": [
      "1 record(s) affected\n"
     ]
    }
   ],
   "source": [
    "import mysql.connector\n",
    "import MySQLdb as sql\n",
    "\n",
    "mydb = mysql.connector.connect(\n",
    "  host=\"localhost\",\n",
    "  user=\"root\",\n",
    "  passwd=\"Easy2020!\",\n",
    "  database=\"mydatabase\"\n",
    ")\n",
    "\n",
    "#mycursor = mydb.cursor()\n",
    "mycursor = mydb.cursor()\n",
    "sql = \"UPDATE data_vault_final1 SET barcode='20002411', purchased = '15', expiry_date='19/02/2021' WHERE type = 'steak & pepper'\" # this script updates the database\n",
    "mycursor.execute(sql)\n",
    "print(mycursor.rowcount, \"record(s) affected\")"
   ]
  },
  {
   "cell_type": "code",
   "execution_count": 17,
   "metadata": {},
   "outputs": [],
   "source": [
    "mydb.commit()"
   ]
  },
  {
   "cell_type": "code",
   "execution_count": 18,
   "metadata": {},
   "outputs": [
    {
     "name": "stdout",
     "output_type": "stream",
     "text": [
      "1 record(s) affected\n"
     ]
    }
   ],
   "source": [
    "import mysql.connector\n",
    "import MySQLdb as sql\n",
    "\n",
    "mydb = mysql.connector.connect(\n",
    "  host=\"localhost\",\n",
    "  user=\"root\",\n",
    "  passwd=\"Easy2020!\",\n",
    "  database=\"mydatabase\"\n",
    ")\n",
    "\n",
    "#mycursor = mydb.cursor()\n",
    "mycursor = mydb.cursor()\n",
    "sql = \"UPDATE data_vault_final1 SET barcode='20002338', purchased = '20', expiry_date='19/03/2021' WHERE type = 'chicken mayo'\" # this script updates the database\n",
    "mycursor.execute(sql)\n",
    "print(mycursor.rowcount, \"record(s) affected\")"
   ]
  },
  {
   "cell_type": "code",
   "execution_count": 19,
   "metadata": {},
   "outputs": [],
   "source": [
    "mydb.commit()"
   ]
  },
  {
   "cell_type": "code",
   "execution_count": 22,
   "metadata": {},
   "outputs": [
    {
     "name": "stdout",
     "output_type": "stream",
     "text": [
      "1 record(s) affected\n"
     ]
    }
   ],
   "source": [
    "import mysql.connector\n",
    "import MySQLdb as sql\n",
    "\n",
    "mydb = mysql.connector.connect(\n",
    "  host=\"localhost\",\n",
    "  user=\"root\",\n",
    "  passwd=\"Easy2020!\",\n",
    "  database=\"mydatabase\"\n",
    ")\n",
    "\n",
    "#mycursor = mydb.cursor()\n",
    "mycursor = mydb.cursor()\n",
    "sql = \"UPDATE data_vault_final1 SET barcode='20002338', purchased = '11', expiry_date='20/03/2021' WHERE type = 'spinach& feta'\" # this script updates the database\n",
    "mycursor.execute(sql)\n",
    "print(mycursor.rowcount, \"record(s) affected\")"
   ]
  },
  {
   "cell_type": "code",
   "execution_count": 23,
   "metadata": {},
   "outputs": [],
   "source": [
    "mydb.commit()"
   ]
  },
  {
   "cell_type": "code",
   "execution_count": 24,
   "metadata": {},
   "outputs": [
    {
     "name": "stdout",
     "output_type": "stream",
     "text": [
      "1 record(s) affected\n"
     ]
    }
   ],
   "source": [
    "import mysql.connector\n",
    "import MySQLdb as sql\n",
    "\n",
    "mydb = mysql.connector.connect(\n",
    "  host=\"localhost\",\n",
    "  user=\"root\",\n",
    "  passwd=\"Easy2020!\",\n",
    "  database=\"mydatabase\"\n",
    ")\n",
    "\n",
    "#mycursor = mydb.cursor()\n",
    "mycursor = mydb.cursor()\n",
    "sql = \"UPDATE data_vault_final1 SET barcode='20002433', purchased = '18', expiry_date='19/03/2020' WHERE type = 'banana'\" # this script updates the database\n",
    "mycursor.execute(sql)\n",
    "print(mycursor.rowcount, \"record(s) affected\")"
   ]
  },
  {
   "cell_type": "code",
   "execution_count": 25,
   "metadata": {},
   "outputs": [],
   "source": [
    "mydb.commit()"
   ]
  },
  {
   "cell_type": "code",
   "execution_count": 26,
   "metadata": {},
   "outputs": [
    {
     "name": "stdout",
     "output_type": "stream",
     "text": [
      "1 record(s) affected\n"
     ]
    }
   ],
   "source": [
    "import mysql.connector\n",
    "import MySQLdb as sql\n",
    "\n",
    "mydb = mysql.connector.connect(\n",
    "  host=\"localhost\",\n",
    "  user=\"root\",\n",
    "  passwd=\"Easy2020!\",\n",
    "  database=\"mydatabase\"\n",
    ")\n",
    "\n",
    "#mycursor = mydb.cursor()\n",
    "mycursor = mydb.cursor()\n",
    "sql = \"UPDATE data_vault_final1 SET barcode='20002338', purchased = '11', expiry_date='19/03/2021' WHERE type = 'apples'\" # this script updates the database\n",
    "mycursor.execute(sql)\n",
    "print(mycursor.rowcount, \"record(s) affected\")"
   ]
  },
  {
   "cell_type": "code",
   "execution_count": 27,
   "metadata": {},
   "outputs": [],
   "source": [
    "mydb.commit()"
   ]
  },
  {
   "cell_type": "code",
   "execution_count": 28,
   "metadata": {},
   "outputs": [
    {
     "name": "stdout",
     "output_type": "stream",
     "text": [
      "1 record(s) affected\n"
     ]
    }
   ],
   "source": [
    "import mysql.connector\n",
    "import MySQLdb as sql\n",
    "\n",
    "mydb = mysql.connector.connect(\n",
    "  host=\"localhost\",\n",
    "  user=\"root\",\n",
    "  passwd=\"Easy2020!\",\n",
    "  database=\"mydatabase\"\n",
    ")\n",
    "\n",
    "#mycursor = mydb.cursor()\n",
    "mycursor = mydb.cursor()\n",
    "sql = \"UPDATE data_vault_final1 SET barcode='20002338', purchased = '12', expiry_date='19/03/2021' WHERE type = 'pears'\" # this script updates the database\n",
    "mycursor.execute(sql)\n",
    "print(mycursor.rowcount, \"record(s) affected\")"
   ]
  },
  {
   "cell_type": "code",
   "execution_count": 29,
   "metadata": {},
   "outputs": [],
   "source": [
    "mydb.commit()"
   ]
  },
  {
   "cell_type": "code",
   "execution_count": 31,
   "metadata": {},
   "outputs": [
    {
     "name": "stdout",
     "output_type": "stream",
     "text": [
      "1 record(s) affected\n"
     ]
    }
   ],
   "source": [
    "import mysql.connector\n",
    "import MySQLdb as sql\n",
    "\n",
    "mydb = mysql.connector.connect(\n",
    "  host=\"localhost\",\n",
    "  user=\"root\",\n",
    "  passwd=\"Easy2020!\",\n",
    "  database=\"mydatabase\"\n",
    ")\n",
    "\n",
    "#mycursor = mydb.cursor()\n",
    "mycursor = mydb.cursor()\n",
    "sql = \"UPDATE data_vault_final1 SET barcode='20002446', purchased = '12', expiry_date='28/02/2020' WHERE type = 'spinach'\" # this script updates the database\n",
    "mycursor.execute(sql)\n",
    "print(mycursor.rowcount, \"record(s) affected\")"
   ]
  },
  {
   "cell_type": "code",
   "execution_count": 32,
   "metadata": {},
   "outputs": [],
   "source": [
    "mydb.commit()"
   ]
  },
  {
   "cell_type": "code",
   "execution_count": 33,
   "metadata": {},
   "outputs": [
    {
     "name": "stdout",
     "output_type": "stream",
     "text": [
      "1 record(s) affected\n"
     ]
    }
   ],
   "source": [
    "import mysql.connector\n",
    "import MySQLdb as sql\n",
    "\n",
    "mydb = mysql.connector.connect(\n",
    "  host=\"localhost\",\n",
    "  user=\"root\",\n",
    "  passwd=\"Easy2020!\",\n",
    "  database=\"mydatabase\"\n",
    ")\n",
    "\n",
    "#mycursor = mydb.cursor()\n",
    "mycursor = mydb.cursor()\n",
    "sql = \"UPDATE data_vault_final1 SET barcode='20002447', purchased = '10', expiry_date='19/03/2020' WHERE type = 'beetrot'\" # this script updates the database\n",
    "mycursor.execute(sql)\n",
    "print(mycursor.rowcount, \"record(s) affected\")"
   ]
  },
  {
   "cell_type": "code",
   "execution_count": 34,
   "metadata": {},
   "outputs": [],
   "source": [
    "mydb.commit()"
   ]
  },
  {
   "cell_type": "code",
   "execution_count": 35,
   "metadata": {},
   "outputs": [
    {
     "name": "stdout",
     "output_type": "stream",
     "text": [
      "1 record(s) affected\n"
     ]
    }
   ],
   "source": [
    "import mysql.connector\n",
    "import MySQLdb as sql\n",
    "\n",
    "mydb = mysql.connector.connect(\n",
    "  host=\"localhost\",\n",
    "  user=\"root\",\n",
    "  passwd=\"Easy2020!\",\n",
    "  database=\"mydatabase\"\n",
    ")\n",
    "\n",
    "#mycursor = mydb.cursor()\n",
    "mycursor = mydb.cursor()\n",
    "sql = \"UPDATE data_vault_final1 SET barcode='20002448', purchased = '9', expiry_date='18/03/2020' WHERE type = 'cabbage'\" # this script updates the database\n",
    "mycursor.execute(sql)\n",
    "print(mycursor.rowcount, \"record(s) affected\")"
   ]
  },
  {
   "cell_type": "code",
   "execution_count": 36,
   "metadata": {},
   "outputs": [],
   "source": [
    "mydb.commit()"
   ]
  },
  {
   "cell_type": "code",
   "execution_count": 13,
   "metadata": {},
   "outputs": [
    {
     "name": "stdout",
     "output_type": "stream",
     "text": [
      "0 record(s) affected\n"
     ]
    }
   ],
   "source": [
    "import mysql.connector\n",
    "#import MySQLdb as sql\n",
    "\n",
    "mydb = mysql.connector.connect(\n",
    "  host=\"localhost\",\n",
    "  user=\"root\",\n",
    "  passwd=\"Easy2020!\",\n",
    "  database=\"mydatabase\"\n",
    ")\n",
    "\n",
    "#mycursor = mydb.cursor()\n",
    "mycursor = mydb.cursor()\n",
    "sql = \"UPDATE data_vault_final1 SET barcode='20002337', purchased = '18', expiry_date='25/02/2020' WHERE type = 'bread'\" # this script updates the database\n",
    "mycursor.execute(sql)\n",
    "print(mycursor.rowcount, \"record(s) affected\")"
   ]
  },
  {
   "cell_type": "code",
   "execution_count": 19,
   "metadata": {},
   "outputs": [
    {
     "name": "stdout",
     "output_type": "stream",
     "text": [
      "1 Record Inserted\n"
     ]
    }
   ],
   "source": [
    "import mysql.connector\n",
    "db_connection = mysql.connector.connect(\n",
    "  host=\"localhost\",\n",
    "  user=\"root\",\n",
    "  passwd=\"Easy2020!\",\n",
    "  database=\"mydatabase\"\n",
    "  )\n",
    "db_cursor = db_connection.cursor()\n",
    "#products_sql_query = \"INSERT INTO data_vault_final1(products,type,price,quantity)VALUES('Bakery', 'bread', 15, 40)\"\n",
    "#employee_sql_query = \" INSERT INTO employee (id, name, salary) VALUES (01, 'John', 10000)\"\n",
    "#Execute cursor and pass query \n",
    "db_cursor.execute(\"INSERT INTO data_vault_final1(products,type,price,quantity,barcode,purchased,Expiry_date)VALUES('Bathroom', 'Jik', 15, 40,5223600,25,'22/01/2021')\")\n",
    "#Execute cursor and pass query of employee and data of employee\n",
    "#db_cursor.execute(employee_sql_query)\n",
    "db_connection.commit()\n",
    "print(db_cursor.rowcount, \"Record Inserted\")\n"
   ]
  },
  {
   "cell_type": "code",
   "execution_count": 21,
   "metadata": {},
   "outputs": [
    {
     "name": "stdout",
     "output_type": "stream",
     "text": [
      "1 Record Inserted\n"
     ]
    }
   ],
   "source": [
    "import mysql.connector\n",
    "db_connection = mysql.connector.connect(\n",
    "  host=\"localhost\",\n",
    "  user=\"root\",\n",
    "  passwd=\"Easy2020!\",\n",
    "  database=\"mydatabase\"\n",
    "  )\n",
    "db_cursor = db_connection.cursor()\n",
    "#products_sql_query = \"INSERT INTO data_vault_final1(products,type,price,quantity)VALUES('Bakery', 'bread', 15, 40)\"\n",
    "#employee_sql_query = \" INSERT INTO employee (id, name, salary) VALUES (01, 'John', 10000)\"\n",
    "#Execute cursor and pass query \n",
    "db_cursor.execute(\"INSERT INTO data_vault_final1(products,type,price,quantity,barcode,purchased,Expiry_date)VALUES('Bakery', 'hotdogs', 40, 75,522361147,30,'22/01/2022')\")\n",
    "#Execute cursor and pass query of employee and data of employee\n",
    "#db_cursor.execute(employee_sql_query)\n",
    "db_connection.commit()\n",
    "print(db_cursor.rowcount, \"Record Inserted\")"
   ]
  },
  {
   "cell_type": "code",
   "execution_count": 25,
   "metadata": {},
   "outputs": [
    {
     "name": "stdout",
     "output_type": "stream",
     "text": [
      "----------Welcome to Data Vault----------\n"
     ]
    },
    {
     "data": {
      "text/html": [
       "<div>\n",
       "<style scoped>\n",
       "    .dataframe tbody tr th:only-of-type {\n",
       "        vertical-align: middle;\n",
       "    }\n",
       "\n",
       "    .dataframe tbody tr th {\n",
       "        vertical-align: top;\n",
       "    }\n",
       "\n",
       "    .dataframe thead th {\n",
       "        text-align: right;\n",
       "    }\n",
       "</style>\n",
       "<table border=\"1\" class=\"dataframe\">\n",
       "  <thead>\n",
       "    <tr style=\"text-align: right;\">\n",
       "      <th></th>\n",
       "      <th>products</th>\n",
       "      <th>type</th>\n",
       "      <th>price</th>\n",
       "      <th>quantity</th>\n",
       "      <th>barcode</th>\n",
       "      <th>purchased</th>\n",
       "      <th>expiry_date</th>\n",
       "    </tr>\n",
       "  </thead>\n",
       "  <tbody>\n",
       "    <tr>\n",
       "      <td>0</td>\n",
       "      <td>Chips</td>\n",
       "      <td>Lays</td>\n",
       "      <td>10.5</td>\n",
       "      <td>15</td>\n",
       "      <td>10002020</td>\n",
       "      <td>2</td>\n",
       "      <td>18/02/2022</td>\n",
       "    </tr>\n",
       "    <tr>\n",
       "      <td>1</td>\n",
       "      <td>Chips</td>\n",
       "      <td>Doritos</td>\n",
       "      <td>11.5</td>\n",
       "      <td>15</td>\n",
       "      <td>100023352</td>\n",
       "      <td>5</td>\n",
       "      <td>18/02/2022</td>\n",
       "    </tr>\n",
       "    <tr>\n",
       "      <td>2</td>\n",
       "      <td>Chips</td>\n",
       "      <td>Nik Naks</td>\n",
       "      <td>9.5</td>\n",
       "      <td>20</td>\n",
       "      <td>10002335</td>\n",
       "      <td>6</td>\n",
       "      <td>18/02/2023</td>\n",
       "    </tr>\n",
       "  </tbody>\n",
       "</table>\n",
       "</div>"
      ],
      "text/plain": [
       "  products      type  price  quantity    barcode purchased expiry_date\n",
       "0    Chips      Lays   10.5        15   10002020         2  18/02/2022\n",
       "1    Chips   Doritos   11.5        15  100023352         5  18/02/2022\n",
       "2    Chips  Nik Naks    9.5        20   10002335         6  18/02/2023"
      ]
     },
     "execution_count": 25,
     "metadata": {},
     "output_type": "execute_result"
    }
   ],
   "source": [
    "import pandas as pd\n",
    "import matplotlib.pyplot as plt\n",
    "import mysql.connector\n",
    "mydb = mysql.connector.connect(\n",
    "  host=\"localhost\",\n",
    "  user=\"root\",\n",
    "  passwd=\"Easy2020!\",\n",
    "  database=\"mydatabase\"\n",
    "  )\n",
    "print('-'*10 + \"Welcome to Data Vault\" + '-'*10)\n",
    "#print(\"\\nThis is the original data\")\n",
    "#df=pd.read_csv(\"Data_Vault_Final1.csv\")\n",
    "\n",
    "chips=pd.read_sql_query(\"select * from mydatabase.data_vault_final1 where products='chips'\",mydb)\n",
    "chips"
   ]
  },
  {
   "cell_type": "code",
   "execution_count": 28,
   "metadata": {},
   "outputs": [
    {
     "data": {
      "text/html": [
       "<div>\n",
       "<style scoped>\n",
       "    .dataframe tbody tr th:only-of-type {\n",
       "        vertical-align: middle;\n",
       "    }\n",
       "\n",
       "    .dataframe tbody tr th {\n",
       "        vertical-align: top;\n",
       "    }\n",
       "\n",
       "    .dataframe thead th {\n",
       "        text-align: right;\n",
       "    }\n",
       "</style>\n",
       "<table border=\"1\" class=\"dataframe\">\n",
       "  <thead>\n",
       "    <tr style=\"text-align: right;\">\n",
       "      <th></th>\n",
       "      <th>products</th>\n",
       "      <th>type</th>\n",
       "      <th>price</th>\n",
       "      <th>quantity</th>\n",
       "      <th>barcode</th>\n",
       "      <th>purchased</th>\n",
       "      <th>expiry_date</th>\n",
       "    </tr>\n",
       "  </thead>\n",
       "  <tbody>\n",
       "    <tr>\n",
       "      <td>0</td>\n",
       "      <td>Coldrinks</td>\n",
       "      <td>Coke</td>\n",
       "      <td>13.5</td>\n",
       "      <td>60</td>\n",
       "      <td>20002335</td>\n",
       "      <td>20</td>\n",
       "      <td>18/02/2021</td>\n",
       "    </tr>\n",
       "    <tr>\n",
       "      <td>1</td>\n",
       "      <td>Coldrinks</td>\n",
       "      <td>Sprite</td>\n",
       "      <td>13.5</td>\n",
       "      <td>60</td>\n",
       "      <td>20002336</td>\n",
       "      <td>21</td>\n",
       "      <td>18/03/2021</td>\n",
       "    </tr>\n",
       "    <tr>\n",
       "      <td>2</td>\n",
       "      <td>Coldrinks</td>\n",
       "      <td>Stoney</td>\n",
       "      <td>13.5</td>\n",
       "      <td>60</td>\n",
       "      <td>20002337</td>\n",
       "      <td>18</td>\n",
       "      <td>19/03/2021</td>\n",
       "    </tr>\n",
       "  </tbody>\n",
       "</table>\n",
       "</div>"
      ],
      "text/plain": [
       "    products    type  price  quantity   barcode purchased expiry_date\n",
       "0  Coldrinks    Coke   13.5        60  20002335        20  18/02/2021\n",
       "1  Coldrinks  Sprite   13.5        60  20002336        21  18/03/2021\n",
       "2  Coldrinks  Stoney   13.5        60  20002337        18  19/03/2021"
      ]
     },
     "execution_count": 28,
     "metadata": {},
     "output_type": "execute_result"
    }
   ],
   "source": [
    "\n",
    "coldrinks=pd.read_sql_query(\"select * from mydatabase.data_vault_final1 where products='coldrinks'\",mydb)\n",
    "coldrinks"
   ]
  },
  {
   "cell_type": "code",
   "execution_count": 29,
   "metadata": {},
   "outputs": [
    {
     "data": {
      "text/html": [
       "<div>\n",
       "<style scoped>\n",
       "    .dataframe tbody tr th:only-of-type {\n",
       "        vertical-align: middle;\n",
       "    }\n",
       "\n",
       "    .dataframe tbody tr th {\n",
       "        vertical-align: top;\n",
       "    }\n",
       "\n",
       "    .dataframe thead th {\n",
       "        text-align: right;\n",
       "    }\n",
       "</style>\n",
       "<table border=\"1\" class=\"dataframe\">\n",
       "  <thead>\n",
       "    <tr style=\"text-align: right;\">\n",
       "      <th></th>\n",
       "      <th>products</th>\n",
       "      <th>type</th>\n",
       "      <th>price</th>\n",
       "      <th>quantity</th>\n",
       "      <th>barcode</th>\n",
       "      <th>purchased</th>\n",
       "      <th>expiry_date</th>\n",
       "    </tr>\n",
       "  </thead>\n",
       "  <tbody>\n",
       "    <tr>\n",
       "      <td>0</td>\n",
       "      <td>Bakery</td>\n",
       "      <td>bread</td>\n",
       "      <td>15.0</td>\n",
       "      <td>40</td>\n",
       "      <td>20002337</td>\n",
       "      <td>18</td>\n",
       "      <td>25/02/2020</td>\n",
       "    </tr>\n",
       "    <tr>\n",
       "      <td>1</td>\n",
       "      <td>Bakery</td>\n",
       "      <td>hotdogs</td>\n",
       "      <td>40.0</td>\n",
       "      <td>75</td>\n",
       "      <td>522361147</td>\n",
       "      <td>30</td>\n",
       "      <td>22/01/2022</td>\n",
       "    </tr>\n",
       "  </tbody>\n",
       "</table>\n",
       "</div>"
      ],
      "text/plain": [
       "  products     type  price  quantity    barcode purchased expiry_date\n",
       "0   Bakery    bread   15.0        40   20002337        18  25/02/2020\n",
       "1   Bakery  hotdogs   40.0        75  522361147        30  22/01/2022"
      ]
     },
     "execution_count": 29,
     "metadata": {},
     "output_type": "execute_result"
    }
   ],
   "source": [
    "\n",
    "Bakery=pd.read_sql_query(\"select * from mydatabase.data_vault_final1 where products='Bakery'\",mydb)\n",
    "Bakery"
   ]
  },
  {
   "cell_type": "code",
   "execution_count": 30,
   "metadata": {},
   "outputs": [
    {
     "data": {
      "text/html": [
       "<div>\n",
       "<style scoped>\n",
       "    .dataframe tbody tr th:only-of-type {\n",
       "        vertical-align: middle;\n",
       "    }\n",
       "\n",
       "    .dataframe tbody tr th {\n",
       "        vertical-align: top;\n",
       "    }\n",
       "\n",
       "    .dataframe thead th {\n",
       "        text-align: right;\n",
       "    }\n",
       "</style>\n",
       "<table border=\"1\" class=\"dataframe\">\n",
       "  <thead>\n",
       "    <tr style=\"text-align: right;\">\n",
       "      <th></th>\n",
       "      <th>products</th>\n",
       "      <th>type</th>\n",
       "      <th>price</th>\n",
       "      <th>quantity</th>\n",
       "      <th>barcode</th>\n",
       "      <th>purchased</th>\n",
       "      <th>expiry_date</th>\n",
       "    </tr>\n",
       "  </thead>\n",
       "  <tbody>\n",
       "    <tr>\n",
       "      <td>0</td>\n",
       "      <td>fruits</td>\n",
       "      <td>banana</td>\n",
       "      <td>15.0</td>\n",
       "      <td>25</td>\n",
       "      <td>20002433</td>\n",
       "      <td>18</td>\n",
       "      <td>19/03/2020</td>\n",
       "    </tr>\n",
       "    <tr>\n",
       "      <td>1</td>\n",
       "      <td>fruits</td>\n",
       "      <td>apples</td>\n",
       "      <td>16.5</td>\n",
       "      <td>35</td>\n",
       "      <td>20002338</td>\n",
       "      <td>11</td>\n",
       "      <td>19/03/2021</td>\n",
       "    </tr>\n",
       "    <tr>\n",
       "      <td>2</td>\n",
       "      <td>fruits</td>\n",
       "      <td>pears</td>\n",
       "      <td>16.0</td>\n",
       "      <td>30</td>\n",
       "      <td>20002338</td>\n",
       "      <td>12</td>\n",
       "      <td>19/03/2021</td>\n",
       "    </tr>\n",
       "  </tbody>\n",
       "</table>\n",
       "</div>"
      ],
      "text/plain": [
       "  products    type  price  quantity   barcode purchased expiry_date\n",
       "0   fruits  banana   15.0        25  20002433        18  19/03/2020\n",
       "1   fruits  apples   16.5        35  20002338        11  19/03/2021\n",
       "2   fruits   pears   16.0        30  20002338        12  19/03/2021"
      ]
     },
     "execution_count": 30,
     "metadata": {},
     "output_type": "execute_result"
    }
   ],
   "source": [
    "\n",
    "fruits=pd.read_sql_query(\"select * from mydatabase.data_vault_final1 where products='fruits'\",mydb)\n",
    "fruits"
   ]
  },
  {
   "cell_type": "code",
   "execution_count": 31,
   "metadata": {},
   "outputs": [
    {
     "data": {
      "text/html": [
       "<div>\n",
       "<style scoped>\n",
       "    .dataframe tbody tr th:only-of-type {\n",
       "        vertical-align: middle;\n",
       "    }\n",
       "\n",
       "    .dataframe tbody tr th {\n",
       "        vertical-align: top;\n",
       "    }\n",
       "\n",
       "    .dataframe thead th {\n",
       "        text-align: right;\n",
       "    }\n",
       "</style>\n",
       "<table border=\"1\" class=\"dataframe\">\n",
       "  <thead>\n",
       "    <tr style=\"text-align: right;\">\n",
       "      <th></th>\n",
       "      <th>products</th>\n",
       "      <th>type</th>\n",
       "      <th>price</th>\n",
       "      <th>quantity</th>\n",
       "      <th>barcode</th>\n",
       "      <th>purchased</th>\n",
       "      <th>expiry_date</th>\n",
       "    </tr>\n",
       "  </thead>\n",
       "  <tbody>\n",
       "    <tr>\n",
       "      <td>0</td>\n",
       "      <td>veggies</td>\n",
       "      <td>spinach</td>\n",
       "      <td>10.0</td>\n",
       "      <td>15</td>\n",
       "      <td>20002446</td>\n",
       "      <td>12</td>\n",
       "      <td>28/02/2020</td>\n",
       "    </tr>\n",
       "    <tr>\n",
       "      <td>1</td>\n",
       "      <td>veggies</td>\n",
       "      <td>beetrot</td>\n",
       "      <td>12.0</td>\n",
       "      <td>15</td>\n",
       "      <td>20002447</td>\n",
       "      <td>10</td>\n",
       "      <td>19/03/2020</td>\n",
       "    </tr>\n",
       "    <tr>\n",
       "      <td>2</td>\n",
       "      <td>veggies</td>\n",
       "      <td>cabbage</td>\n",
       "      <td>8.0</td>\n",
       "      <td>15</td>\n",
       "      <td>20002448</td>\n",
       "      <td>9</td>\n",
       "      <td>18/03/2020</td>\n",
       "    </tr>\n",
       "  </tbody>\n",
       "</table>\n",
       "</div>"
      ],
      "text/plain": [
       "  products     type  price  quantity   barcode purchased expiry_date\n",
       "0  veggies  spinach   10.0        15  20002446        12  28/02/2020\n",
       "1  veggies  beetrot   12.0        15  20002447        10  19/03/2020\n",
       "2  veggies  cabbage    8.0        15  20002448         9  18/03/2020"
      ]
     },
     "execution_count": 31,
     "metadata": {},
     "output_type": "execute_result"
    }
   ],
   "source": [
    "\n",
    "veggies=pd.read_sql_query(\"select * from mydatabase.data_vault_final1 where products='veggies'\",mydb)\n",
    "veggies"
   ]
  },
  {
   "cell_type": "code",
   "execution_count": 32,
   "metadata": {},
   "outputs": [
    {
     "data": {
      "text/html": [
       "<div>\n",
       "<style scoped>\n",
       "    .dataframe tbody tr th:only-of-type {\n",
       "        vertical-align: middle;\n",
       "    }\n",
       "\n",
       "    .dataframe tbody tr th {\n",
       "        vertical-align: top;\n",
       "    }\n",
       "\n",
       "    .dataframe thead th {\n",
       "        text-align: right;\n",
       "    }\n",
       "</style>\n",
       "<table border=\"1\" class=\"dataframe\">\n",
       "  <thead>\n",
       "    <tr style=\"text-align: right;\">\n",
       "      <th></th>\n",
       "      <th>products</th>\n",
       "      <th>type</th>\n",
       "      <th>price</th>\n",
       "      <th>quantity</th>\n",
       "      <th>barcode</th>\n",
       "      <th>purchased</th>\n",
       "      <th>expiry_date</th>\n",
       "    </tr>\n",
       "  </thead>\n",
       "  <tbody>\n",
       "    <tr>\n",
       "      <td>0</td>\n",
       "      <td>pie</td>\n",
       "      <td>Steak &amp; pepper</td>\n",
       "      <td>18.5</td>\n",
       "      <td>20</td>\n",
       "      <td>20002411</td>\n",
       "      <td>15</td>\n",
       "      <td>19/02/2021</td>\n",
       "    </tr>\n",
       "    <tr>\n",
       "      <td>1</td>\n",
       "      <td>pie</td>\n",
       "      <td>Chicken mayo</td>\n",
       "      <td>20.0</td>\n",
       "      <td>20</td>\n",
       "      <td>20002338</td>\n",
       "      <td>20</td>\n",
       "      <td>19/03/2021</td>\n",
       "    </tr>\n",
       "    <tr>\n",
       "      <td>2</td>\n",
       "      <td>pie</td>\n",
       "      <td>spinach&amp; feta</td>\n",
       "      <td>22.0</td>\n",
       "      <td>20</td>\n",
       "      <td>20002338</td>\n",
       "      <td>11</td>\n",
       "      <td>20/03/2021</td>\n",
       "    </tr>\n",
       "  </tbody>\n",
       "</table>\n",
       "</div>"
      ],
      "text/plain": [
       "  products            type  price  quantity   barcode purchased expiry_date\n",
       "0      pie  Steak & pepper   18.5        20  20002411        15  19/02/2021\n",
       "1      pie    Chicken mayo   20.0        20  20002338        20  19/03/2021\n",
       "2      pie   spinach& feta   22.0        20  20002338        11  20/03/2021"
      ]
     },
     "execution_count": 32,
     "metadata": {},
     "output_type": "execute_result"
    }
   ],
   "source": [
    "\n",
    "pie=pd.read_sql_query(\"select * from mydatabase.data_vault_final1 where products='pie'\",mydb)\n",
    "pie"
   ]
  },
  {
   "cell_type": "code",
   "execution_count": 33,
   "metadata": {},
   "outputs": [
    {
     "data": {
      "text/html": [
       "<div>\n",
       "<style scoped>\n",
       "    .dataframe tbody tr th:only-of-type {\n",
       "        vertical-align: middle;\n",
       "    }\n",
       "\n",
       "    .dataframe tbody tr th {\n",
       "        vertical-align: top;\n",
       "    }\n",
       "\n",
       "    .dataframe thead th {\n",
       "        text-align: right;\n",
       "    }\n",
       "</style>\n",
       "<table border=\"1\" class=\"dataframe\">\n",
       "  <thead>\n",
       "    <tr style=\"text-align: right;\">\n",
       "      <th></th>\n",
       "      <th>products</th>\n",
       "      <th>type</th>\n",
       "      <th>price</th>\n",
       "      <th>quantity</th>\n",
       "      <th>barcode</th>\n",
       "      <th>purchased</th>\n",
       "      <th>expiry_date</th>\n",
       "    </tr>\n",
       "  </thead>\n",
       "  <tbody>\n",
       "    <tr>\n",
       "      <td>0</td>\n",
       "      <td>Bathroom</td>\n",
       "      <td>Jik</td>\n",
       "      <td>15.0</td>\n",
       "      <td>40</td>\n",
       "      <td>5223600</td>\n",
       "      <td>25</td>\n",
       "      <td>22/01/2021</td>\n",
       "    </tr>\n",
       "  </tbody>\n",
       "</table>\n",
       "</div>"
      ],
      "text/plain": [
       "   products type  price  quantity  barcode purchased expiry_date\n",
       "0  Bathroom  Jik   15.0        40  5223600        25  22/01/2021"
      ]
     },
     "execution_count": 33,
     "metadata": {},
     "output_type": "execute_result"
    }
   ],
   "source": [
    "bathroom=pd.read_sql_query(\"select * from mydatabase.data_vault_final1 where products='bathroom'\",mydb)\n",
    "bathroom"
   ]
  },
  {
   "cell_type": "code",
   "execution_count": null,
   "metadata": {},
   "outputs": [],
   "source": []
  }
 ],
 "metadata": {
  "kernelspec": {
   "display_name": "Python 3",
   "language": "python",
   "name": "python3"
  },
  "language_info": {
   "codemirror_mode": {
    "name": "ipython",
    "version": 3
   },
   "file_extension": ".py",
   "mimetype": "text/x-python",
   "name": "python",
   "nbconvert_exporter": "python",
   "pygments_lexer": "ipython3",
   "version": "3.7.4"
  }
 },
 "nbformat": 4,
 "nbformat_minor": 2
}
